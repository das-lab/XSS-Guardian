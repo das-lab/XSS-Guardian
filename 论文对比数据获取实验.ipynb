{
 "cells": [
  {
   "cell_type": "code",
   "execution_count": 1,
   "metadata": {},
   "outputs": [],
   "source": [
    "from get_sinks import get_sinks_from_content\n",
    "import pandas as pd\n",
    "import numpy as np\n",
    "from extract_sink_features import sink_predict_class, SINK_TYPE_DICT"
   ]
  },
  {
   "cell_type": "markdown",
   "metadata": {},
   "source": [
    "# 从CSV中导入数据"
   ]
  },
  {
   "cell_type": "code",
   "execution_count": 2,
   "metadata": {},
   "outputs": [
    {
     "name": "stdout",
     "output_type": "stream",
     "text": [
      "Index(['file', 'code', 'vld', 'opcode', 'filter', 'label'], dtype='object')\n"
     ]
    }
   ],
   "source": [
    "df = pd.read_csv('clean_datasets.csv')\n",
    "print(df.columns)"
   ]
  },
  {
   "cell_type": "code",
   "execution_count": 3,
   "metadata": {},
   "outputs": [
    {
     "name": "stdout",
     "output_type": "stream",
     "text": [
      "10080\n",
      "10080\n"
     ]
    }
   ],
   "source": [
    "opcode_list = df['opcode'].tolist()\n",
    "code_list = df['code'].tolist()\n",
    "filter_list = df['filter']\n",
    "label_list = np.array(df['label'].tolist())\n",
    "sink_type_list = []\n",
    "for code in code_list:\n",
    "    sink_type_list.append(get_sinks_from_content(code)[0])\n",
    "sink_type_list = np.array(sink_type_list)\n",
    "\n",
    "print(len(code_list))\n",
    "print(len(sink_type_list))"
   ]
  },
  {
   "cell_type": "markdown",
   "metadata": {},
   "source": [
    "## 替换"
   ]
  },
  {
   "cell_type": "code",
   "execution_count": 4,
   "metadata": {},
   "outputs": [
    {
     "name": "stdout",
     "output_type": "stream",
     "text": [
      "10080\n"
     ]
    }
   ],
   "source": [
    "# 替换SINK、ENCAPSED STRING\n",
    "\n",
    "opcode_clean_list = []\n",
    "for i in range(len(opcode_list)):\n",
    "    opcode = str(opcode_list[i]).split(' ')\n",
    "    for j in range(len(opcode)-1, -1, -1):\n",
    "        if opcode[j] == 'ECHO':\n",
    "            opcode[j] = SINK_TYPE_DICT[sink_predict_class(sink_type_list[i])]\n",
    "            break\n",
    "\n",
    "    opcode_clean_list.append(' '.join(opcode))\n",
    "print(len(opcode_clean_list))"
   ]
  },
  {
   "cell_type": "code",
   "execution_count": 5,
   "metadata": {},
   "outputs": [],
   "source": [
    "# 替换FUNCTION\n",
    "\n",
    "for element in enumerate(zip(opcode_clean_list, filter_list)):\n",
    "    index = element[0]    # Index of enumeration\n",
    "    opcode_filter_tup = element[1]    # (opcode_sequence, filters)\n",
    "    opcode = opcode_filter_tup[0].split(' ')    # to list\n",
    "    filters = opcode_filter_tup[1].split(' ')    # to list\n",
    "    count_init = 0\n",
    "    count_do = 0\n",
    "    # 无filter：\n",
    "    if 'NO_FILTER' in filters:\n",
    "        opcode_clean_list[index] = ' '.join(opcode)\n",
    "        continue    # 跳转到下一份opcode序列\n",
    "    # 有filter：\n",
    "    for i in range(len(opcode)):    # 替换INIT_FCALL\n",
    "        if opcode[i] == 'INIT_FCALL':\n",
    "            opcode[i] = str(filters[count_init])\n",
    "            count_init += 1\n",
    "#         if opcode[i] == 'DO_ICALL' and count_init != 0:    # 执行INIT_FCALL的地方必须在INIT_FCALL之后\n",
    "#             opcode[i] = 'DO_' + str(filters[count_do])\n",
    "#             count_do += 1\n",
    "    opcode_clean_list[index] = ' '.join(opcode)\n"
   ]
  },
  {
   "cell_type": "markdown",
   "metadata": {},
   "source": [
    "## 直接append"
   ]
  },
  {
   "cell_type": "code",
   "execution_count": null,
   "metadata": {},
   "outputs": [],
   "source": [
    "for i in range(len(opcode_list)):\n",
    "    opcode_list[i] = opcode_list[i] + ' ' + filter_list[i]\n",
    "    opcode_list[i] = opcode_list[i] + ' ' + SINK_TYPE_DICT[sink_predict_class(sink_type_list[i])]\n",
    "#     opcode_list[i] = opcode_list[i].split(' ')\n"
   ]
  },
  {
   "cell_type": "markdown",
   "metadata": {},
   "source": [
    "# Test"
   ]
  },
  {
   "cell_type": "code",
   "execution_count": 6,
   "metadata": {},
   "outputs": [
    {
     "name": "stdout",
     "output_type": "stream",
     "text": [
      ">>> Filters: \n",
      "FILTER_VAR\n",
      "\n",
      ">>> Normal: \n",
      "ECHO NEW DO_FCALL ASSIGN INIT_METHOD_CALL DO_FCALL ASSIGN INIT_FCALL SEND_VAR SEND_VAL DO_ICALL ASSIGN ASSIGN CONCAT CONCAT ECHO ECHO RETURN FETCH_OBJ_R FETCH_DIM_R RETURN RETURN ASSIGN_OBJ OP_DATA FETCH_OBJ_W ASSIGN_DIM OP_DATA FETCH_R FETCH_DIM_R FETCH_OBJ_W ASSIGN_DIM OP_DATA FETCH_OBJ_W ASSIGN_DIM OP_DATA RETURN\n",
      "\n",
      ">>> Clean: \n",
      "ECHO NEW DO_FCALL ASSIGN INIT_METHOD_CALL DO_FCALL ASSIGN FILTER_VAR SEND_VAR SEND_VAL DO_ICALL ASSIGN ASSIGN CONCAT CONCAT ECHO ECHO_SINK_SINGLE_QUOTE_JS_BLOCK RETURN FETCH_OBJ_R FETCH_DIM_R RETURN RETURN ASSIGN_OBJ OP_DATA FETCH_OBJ_W ASSIGN_DIM OP_DATA FETCH_R FETCH_DIM_R FETCH_OBJ_W ASSIGN_DIM OP_DATA FETCH_OBJ_W ASSIGN_DIM OP_DATA RETURN\n",
      "\n",
      "10080\n"
     ]
    }
   ],
   "source": [
    "index = 9\n",
    "print('>>> Filters: ')\n",
    "print(filter_list[index] + '\\n')\n",
    "print('>>> Normal: ')\n",
    "print(opcode_list[index] + '\\n')\n",
    "print('>>> Clean: ')\n",
    "print(opcode_clean_list[index] + '\\n')\n",
    "# print(code_list[index] + '\\n')\n",
    "print(len(opcode_clean_list))"
   ]
  },
  {
   "cell_type": "markdown",
   "metadata": {},
   "source": [
    "# TF-IDF 模型"
   ]
  },
  {
   "cell_type": "code",
   "execution_count": 7,
   "metadata": {},
   "outputs": [
    {
     "name": "stdout",
     "output_type": "stream",
     "text": [
      "(10080, 66)\n"
     ]
    }
   ],
   "source": [
    "from sklearn.feature_extraction.text import CountVectorizer\n",
    "from sklearn.feature_extraction.text import TfidfTransformer\n",
    "from sklearn.feature_extraction.text import TfidfVectorizer\n",
    "\n",
    "# CV = CountVectorizer(ngram_range=(5,5), decode_error='ignore',\n",
    "#                     token_pattern=r'\\b\\w+\\b', min_df=1, max_df=1.0)\n",
    "# X = CV.fit_transform(opcode_list).toarray()\n",
    "# # print(X[:2])\n",
    "# Tfid = TfidfTransformer(smooth_idf=False)\n",
    "# tfidf_value = Tfid.fit_transform(X)\n",
    "# # print(tfidf_value)\n",
    "# X_tfid = np.array(tfidf_value.toarray())\n",
    "# print(X_tfid.shape)\n",
    "\n",
    "tfidf = TfidfVectorizer()\n",
    "re = tfidf.fit_transform(opcode_clean_list)\n",
    "# print(re)\n",
    "X_tfid = np.array(re.toarray())\n",
    "print(X_tfid.shape)"
   ]
  },
  {
   "cell_type": "markdown",
   "metadata": {},
   "source": [
    "# SVM"
   ]
  },
  {
   "cell_type": "code",
   "execution_count": 8,
   "metadata": {},
   "outputs": [
    {
     "name": "stdout",
     "output_type": "stream",
     "text": [
      "(7056, 66)\n",
      "(3024, 66)\n"
     ]
    }
   ],
   "source": [
    "from sklearn.preprocessing import StandardScaler\n",
    "from sklearn.preprocessing import MinMaxScaler\n",
    "from sklearn.model_selection import train_test_split\n",
    "from tensorflow.keras.utils import to_categorical\n",
    "\n",
    "X_train, X_test, y_train, y_test = train_test_split(\n",
    "    X_tfid, label_list, random_state=2019, test_size = 0.3, stratify=label_list)\n",
    "\n",
    "# 标准化\n",
    "std_scaler = StandardScaler()\n",
    "X_train_std = std_scaler.fit_transform(X_train).astype('float32')\n",
    "X_test_std = std_scaler.transform(X_test).astype('float32')\n",
    "\n",
    "print(X_train_std.shape)\n",
    "print(X_test_std.shape)"
   ]
  },
  {
   "cell_type": "code",
   "execution_count": 9,
   "metadata": {},
   "outputs": [],
   "source": [
    "from sklearn import svm\n",
    "# from sklearn.ensemble import RandomForestClassifier\n",
    "\n",
    "svc = svm.SVC(kernel='linear', C=1.0, gamma='auto', probability=True, random_state=2019)  # 线性核"
   ]
  },
  {
   "cell_type": "code",
   "execution_count": 10,
   "metadata": {},
   "outputs": [
    {
     "data": {
      "image/png": "[encoded data removed]",
      "text/plain": [
       "<Figure size 432x288 with 1 Axes>"
      ]
     },
     "metadata": {
      "needs_background": "light"
     },
     "output_type": "display_data"
    }
   ],
   "source": [
    "from sklearn.metrics import roc_curve, auc\n",
    "import matplotlib.pyplot as plt\n",
    "from sklearn.model_selection import StratifiedKFold\n",
    "\n",
    "%matplotlib inline\n",
    "\n",
    "cv = StratifiedKFold(n_splits=10)    #导入该模型，后面将数据划分10份\n",
    " \n",
    "# 画平均ROC曲线的两个参数\n",
    "mean_tpr = 0.0              # 用来记录画平均ROC曲线的信息\n",
    "mean_fpr = np.linspace(0, 1, 100)\n",
    "mean_fpr = np.linspace(0, 1, 100)\n",
    "cnt = 0\n",
    "for i, (train, test) in enumerate(cv.split(X_train_std,y_train)):       #利用模型划分数据集和目标变量 为一一对应的下标\n",
    "    cnt +=1\n",
    "    probas_ = svc.fit(X_train_std[train], y_train[train]).predict_proba(X_train_std[test]) # 训练模型后预测每条样本得到两种结果的概率\n",
    "    fpr, tpr, thresholds = roc_curve(y_train[test], probas_[:, 1])    # 该函数得到伪正例、真正例、阈值，这里只使用前两个\n",
    " \n",
    "    mean_tpr += np.interp(mean_fpr, fpr, tpr)   # 插值函数 interp(x坐标,每次x增加距离,y坐标)  累计每次循环的总值后面求平均值\n",
    "    mean_tpr[0] = 0.0           # 将第一个真正例=0 以0为起点\n",
    " \n",
    "    roc_auc = auc(fpr, tpr)  # 求auc面积\n",
    "    plt.plot(fpr, tpr, lw=1, label='ROC fold {0:.2f} (area = {1:.2f})'.format(i, roc_auc))    # 画出当前分割数据的ROC曲线\n",
    "\n",
    "plt.plot([0, 1], [0, 1], '--', color=(0.6, 0.6, 0.6), label='Luck') # 画对角线\n",
    " \n",
    "mean_tpr /= cnt   # 求数组的平均值\n",
    "mean_tpr[-1] = 1.0   # 坐标最后一个点为（1,1）  以1为终点\n",
    "mean_auc = auc(mean_fpr, mean_tpr)\n",
    " \n",
    "plt.plot(mean_fpr, mean_tpr, 'k--',label='Mean ROC (area = {0:.2f})'.format(mean_auc), lw=2)\n",
    " \n",
    "plt.xlim([-0.05, 1.05])     # 设置x、y轴的上下限，设置宽一点，以免和边缘重合，可以更好的观察图像的整体\n",
    "plt.ylim([-0.05, 1.05])\n",
    "plt.xlabel('False Positive Rate')\n",
    "plt.ylabel('True Positive Rate')    # 可以使用中文，但需要导入一些库即字体\n",
    "plt.title('ROC Curve')\n",
    "plt.legend(loc=\"lower right\")\n",
    "plt.show()"
   ]
  },
  {
   "cell_type": "code",
   "execution_count": 11,
   "metadata": {},
   "outputs": [
    {
     "name": "stdout",
     "output_type": "stream",
     "text": [
      "               precision    recall  f1-score   support\n",
      "\n",
      "Good sanitize       0.94      0.87      0.91      1718\n",
      " Bad sanitize       0.85      0.92      0.88      1306\n",
      "\n",
      "     accuracy                           0.90      3024\n",
      "    macro avg       0.89      0.90      0.90      3024\n",
      " weighted avg       0.90      0.90      0.90      3024\n",
      "\n"
     ]
    }
   ],
   "source": [
    "from sklearn import metrics\n",
    "predict_target = svc.predict(X_test_std)\n",
    "print(metrics.classification_report(y_test, predict_target, \n",
    "                                    target_names=['Good sanitize', 'Bad sanitize']))"
   ]
  },
  {
   "cell_type": "code",
   "execution_count": 12,
   "metadata": {},
   "outputs": [
    {
     "data": {
      "text/plain": [
       "Text(0.5, 0, 'True label')"
      ]
     },
     "execution_count": 12,
     "metadata": {},
     "output_type": "execute_result"
    },
    {
     "data": {
      "image/png": "[encoded data removed]",
      "text/plain": [
       "<Figure size 288x288 with 2 Axes>"
      ]
     },
     "metadata": {
      "needs_background": "light"
     },
     "output_type": "display_data"
    }
   ],
   "source": [
    "# Confusion matrix\n",
    "%matplotlib inline\n",
    "\n",
    "from sklearn.metrics import confusion_matrix\n",
    "import matplotlib.pyplot as plt\n",
    "\n",
    "cm = confusion_matrix(y_test, svc.predict(X_test_std))\n",
    "plt.matshow(cm,cmap=plt.cm.Greens)\n",
    "plt.colorbar()\n",
    "for x in range(len(cm)):\n",
    "    for y in range(len(cm)):\n",
    "        plt.annotate(cm[x,y],xy=(x,y),horizontalalignment='center',verticalalignment='center')\n",
    "\n",
    "plt.ylabel('Predicted label')# 坐标轴标签\n",
    "plt.xlabel('True label')# 坐标轴标签"
   ]
  },
  {
   "cell_type": "markdown",
   "metadata": {},
   "source": [
    "# Bi-LSTM"
   ]
  },
  {
   "cell_type": "code",
   "execution_count": 13,
   "metadata": {},
   "outputs": [],
   "source": [
    "from tensorflow.keras.layers import Dense, Flatten, Embedding, Dropout, Bidirectional, LSTM\n",
    "from tensorflow.keras.models import Sequential\n",
    "from tensorflow.keras import regularizers\n"
   ]
  },
  {
   "cell_type": "code",
   "execution_count": 21,
   "metadata": {},
   "outputs": [],
   "source": [
    "from sklearn.model_selection import train_test_split\n",
    "from tensorflow.keras.utils import to_categorical\n",
    "\n",
    "X_train, X_test, y_train, y_test = train_test_split(X_tfid, label_list, \n",
    "                                                    random_state=2019, test_size = 0.3, stratify=label_list)\n",
    "y_train_init = y_train\n",
    "y_train = to_categorical(y_train, 2).astype('int')\n",
    "# y_test = to_categorical(y_test, 2).astype('int')\n",
    "\n",
    "from sklearn.preprocessing import StandardScaler\n",
    "scaler = StandardScaler()\n",
    "X_train_std = scaler.fit_transform(X_train).astype('float32').reshape(-1, X_train.shape[1], 1)\n",
    "X_test_std = scaler.fit_transform(X_test).astype('float32').reshape(-1, X_test.shape[1], 1)"
   ]
  },
  {
   "cell_type": "markdown",
   "metadata": {},
   "source": [
    "# 新模型"
   ]
  },
  {
   "cell_type": "code",
   "execution_count": 22,
   "metadata": {},
   "outputs": [],
   "source": [
    "model = Sequential()\n",
    "# model.add(Embedding(X_train.shape[0], 100, input_length=100))\n",
    "model.add(Bidirectional(LSTM(128)))\n",
    "model.add(Dense(64, activation='relu'))\n",
    "model.add(Dropout(0.2))\n",
    "model.add(Dense(2, activation='softmax'))\n",
    "\n",
    "model.compile(loss='binary_crossentropy', optimizer='nadam',\n",
    "             metrics=['acc'])"
   ]
  },
  {
   "cell_type": "code",
   "execution_count": 23,
   "metadata": {},
   "outputs": [
    {
     "name": "stdout",
     "output_type": "stream",
     "text": [
      "(7056, 66, 1)\n",
      "(7056, 2)\n",
      "(3024, 66, 1)\n",
      "(3024,)\n"
     ]
    }
   ],
   "source": [
    "print(X_train_std.shape)\n",
    "print(y_train.shape)\n",
    "print(X_test_std.shape)\n",
    "print(y_test.shape)"
   ]
  },
  {
   "cell_type": "markdown",
   "metadata": {},
   "source": [
    "# 导入模型"
   ]
  },
  {
   "cell_type": "code",
   "execution_count": 18,
   "metadata": {},
   "outputs": [
    {
     "name": "stdout",
     "output_type": "stream",
     "text": [
      "WARNING:tensorflow:Sequential models without an `input_shape` passed to the first layer cannot reload their optimizer state. As a result, your model isstarting with a freshly initialized optimizer.\n"
     ]
    }
   ],
   "source": [
    "from tensorflow.keras.models import load_model\n",
    "model = load_model('./d2v_lstm_models/replace_128_neuron_bilstm_high_recall.h5')"
   ]
  },
  {
   "cell_type": "markdown",
   "metadata": {},
   "source": [
    "# 训练"
   ]
  },
  {
   "cell_type": "code",
   "execution_count": 45,
   "metadata": {},
   "outputs": [
    {
     "name": "stdout",
     "output_type": "stream",
     "text": [
      "Train on 5644 samples, validate on 1412 samples\n",
      "5644/5644 [==============================] - 28s 5ms/sample - loss: 0.1855 - acc: 0.8999 - val_loss: 0.2310 - val_acc: 0.8824\n"
     ]
    }
   ],
   "source": [
    "epoch_num = 1\n",
    "history1 = model.fit(X_train_std, y_train, epochs=epoch_num, validation_split=0.2)"
   ]
  },
  {
   "cell_type": "code",
   "execution_count": 26,
   "metadata": {},
   "outputs": [],
   "source": [
    "# 保存模型相关参数及训练中指标\n",
    "model_name = 'tfidf_89_neuron_128_epoch_' + str(epoch_num)\n",
    "# model.save('./d2v_lstm_models/' + model_name + '.h5')\n",
    "\n",
    "accy=np.array(history1.history['acc'])\n",
    "val_accy=np.array(history1.history['val_acc'])\n",
    "lossy = np.array(history1.history['loss'])\n",
    "val_lossy = np.array(history1.history['val_loss'])\n",
    "\n",
    "acc_loss_df = pd.DataFrame(\n",
    "    {'accuracy': accy,\n",
    "     'validation_accuracy': val_accy,\n",
    "     'loss': lossy,\n",
    "     'validation_loss': val_lossy\n",
    "    }\n",
    ")\n",
    "# acc_loss_df.to_excel('./accuracy_loss_related/' + model_name + '.xls', index=False)"
   ]
  },
  {
   "cell_type": "code",
   "execution_count": 27,
   "metadata": {
    "scrolled": true
   },
   "outputs": [
    {
     "data": {
      "image/png": "[encoded data removed]",
      "text/plain": [
       "<Figure size 432x288 with 1 Axes>"
      ]
     },
     "metadata": {
      "needs_background": "light"
     },
     "output_type": "display_data"
    }
   ],
   "source": [
    "# metrics\n",
    "# 1. Accuracy- loss\n",
    "import matplotlib.pyplot as plt\n",
    "plt.xlim(0, epoch_num)\n",
    "plt.ylim([-0.05, 1.05])\n",
    "plt.plot(range(epoch_num), accy, label='accuracy')\n",
    "plt.plot(range(epoch_num), val_accy, label='validation_accuracy')\n",
    "plt.plot(range(epoch_num), lossy, label='loss')\n",
    "plt.plot(range(epoch_num), val_lossy, label='validation_loss')\n",
    "plt.legend()\n",
    "# plt.figure(figsize=(10,10.5))\n",
    "plt.show()"
   ]
  },
  {
   "cell_type": "code",
   "execution_count": 23,
   "metadata": {
    "collapsed": true,
    "jupyter": {
     "outputs_hidden": true
    }
   },
   "outputs": [
    {
     "name": "stdout",
     "output_type": "stream",
     "text": [
      "Train on 7711 samples\n",
      "7711/7711 [==============================] - 35s 5ms/sample - loss: 0.1653 - acc: 0.9049\n",
      "Train on 7711 samples\n",
      "7711/7711 [==============================] - 37s 5ms/sample - loss: 0.1776 - acc: 0.8985\n",
      "Train on 7711 samples\n",
      "7711/7711 [==============================] - 34s 4ms/sample - loss: 0.1951 - acc: 0.8987\n",
      "Train on 7711 samples\n",
      "7711/7711 [==============================] - 34s 4ms/sample - loss: 0.1708 - acc: 0.8998\n",
      "Train on 7711 samples\n",
      "7711/7711 [==============================] - 34s 4ms/sample - loss: 0.1696 - acc: 0.8992\n",
      "Train on 7711 samples\n",
      "7711/7711 [==============================] - 34s 4ms/sample - loss: 0.1656 - acc: 0.9065\n",
      "Train on 7711 samples\n",
      "7711/7711 [==============================] - 34s 4ms/sample - loss: 0.1675 - acc: 0.9038\n",
      "Train on 7711 samples\n",
      "7711/7711 [==============================] - 34s 4ms/sample - loss: 0.1711 - acc: 0.9011\n",
      "Train on 7712 samples\n",
      "7712/7712 [==============================] - 34s 4ms/sample - loss: 0.1670 - acc: 0.9034\n",
      "Train on 7712 samples\n",
      "7712/7712 [==============================] - 34s 4ms/sample - loss: 0.1686 - acc: 0.8998\n"
     ]
    },
    {
     "data": {
      "image/png": "[encoded data removed]",
      "text/plain": [
       "<Figure size 432x288 with 1 Axes>"
      ]
     },
     "metadata": {
      "needs_background": "light"
     },
     "output_type": "display_data"
    }
   ],
   "source": [
    "#定义n折交叉验证\n",
    "from sklearn.model_selection import KFold\n",
    "KF = KFold(n_splits=10)\n",
    "\n",
    "from sklearn.metrics import roc_curve, auc\n",
    "mean_tpr = 0.0              # 用来记录画平均ROC曲线的信息\n",
    "mean_fpr = np.linspace(0, 1, 100)\n",
    "cnt = 0\n",
    "#data为数据集,利用KF.split划分训练集和测试集\n",
    "for train_index,test_index in KF.split(X_train_std):\n",
    "    cnt += 1\n",
    "    #建立模型，并对训练集进行测试，求出预测得分\n",
    "    #划分训练集和测试集\n",
    "    X_train_kf, X_test_kf = X_train_std[train_index], X_train_std[test_index]\n",
    "    Y_train_kf, Y_test_kf = y_train[train_index], y_train[test_index]\n",
    "    #训练模型\n",
    "    model.fit(X_train_kf, Y_train_kf, epochs=1)\n",
    "    #利用model.predict获取测试集的预测值\n",
    "    Y_pred_kf = model.predict(X_test_kf, batch_size=1)\n",
    "    #计算fpr(假阳性率),tpr(真阳性率),thresholds(阈值)[绘制ROC曲线要用到这几个值]\n",
    "    fpr, tpr, thresholds = roc_curve(Y_test_kf[:,1],Y_pred_kf[:,1])\n",
    "    mean_tpr += np.interp(mean_fpr, fpr, tpr)   # 插值函数 interp(x坐标,每次x增加距离,y坐标)  累计每次循环的总值后面求平均值\n",
    "    mean_tpr[0] = 0.0           # 将第一个真正例=0 以0为起点\n",
    " \n",
    "    roc_auc = auc(fpr, tpr)  # 求auc面积\n",
    "    plt.plot(fpr, tpr, lw=1, label='ROC fold {0:.2f} (area = {1:.2f})'.format(i, roc_auc))    # 画出当前分割数据的ROC曲线\n",
    "    i += 1\n",
    "\n",
    "plt.plot([0, 1], [0, 1], '--', color=(0.6, 0.6, 0.6), label='Luck') # 画对角线\n",
    "mean_tpr /= cnt   # 求数组的平均值\n",
    "mean_tpr[-1] = 1.0   # 坐标最后一个点为（1,1）  以1为终点\n",
    "mean_auc = auc(mean_fpr, mean_tpr)\n",
    " \n",
    "plt.plot(mean_fpr, mean_tpr, 'k--',label='Mean ROC (area = {0:.2f})'.format(mean_auc), lw=2)\n",
    " \n",
    "plt.xlim([-0.05, 1.05])     # 设置x、y轴的上下限，设置宽一点，以免和边缘重合，可以更好的观察图像的整体\n",
    "plt.ylim([-0.05, 1.05])\n",
    "plt.xlabel('False Positive Rate')\n",
    "plt.ylabel('True Positive Rate')    # 可以使用中文，但需要导入一些库即字体\n",
    "plt.title('ROC Curve')\n",
    "plt.legend(loc=\"lower right\")\n",
    "plt.show()"
   ]
  },
  {
   "cell_type": "code",
   "execution_count": null,
   "metadata": {},
   "outputs": [],
   "source": [
    "model_name = 'kf_10_tfidf_89_neuron_128_epoch_' + '200'\n",
    "model.save('./d2v_lstm_models/' + model_name + '.h5')"
   ]
  },
  {
   "cell_type": "code",
   "execution_count": 46,
   "metadata": {},
   "outputs": [
    {
     "name": "stdout",
     "output_type": "stream",
     "text": [
      "               precision    recall  f1-score   support\n",
      "\n",
      "Good sanitize       0.92      0.87      0.89      1718\n",
      " Bad sanitize       0.84      0.90      0.87      1306\n",
      "\n",
      "     accuracy                           0.88      3024\n",
      "    macro avg       0.88      0.88      0.88      3024\n",
      " weighted avg       0.89      0.88      0.88      3024\n",
      "\n"
     ]
    }
   ],
   "source": [
    "from sklearn import metrics\n",
    "predict_target = model.predict_classes(X_test_std)\n",
    "# print(predict_target)\n",
    "print(metrics.classification_report(y_test, predict_target, \n",
    "                                    target_names=['Good sanitize', 'Bad sanitize']))"
   ]
  },
  {
   "cell_type": "code",
   "execution_count": 47,
   "metadata": {},
   "outputs": [
    {
     "name": "stdout",
     "output_type": "stream",
     "text": [
      "0.8832671957671958\n",
      "0.8425593098490295\n",
      "0.8973966309341501\n"
     ]
    }
   ],
   "source": [
    "from sklearn.metrics import accuracy_score, precision_score, recall_score\n",
    "predict_target = model.predict_classes(X_test_std)\n",
    "print(accuracy_score(y_test, predict_target))\n",
    "print(precision_score(y_test, predict_target))\n",
    "print(recall_score(y_test, predict_target))"
   ]
  },
  {
   "cell_type": "code",
   "execution_count": 44,
   "metadata": {},
   "outputs": [
    {
     "data": {
      "image/png": "[encoded data removed]",
      "text/plain": [
       "<Figure size 288x288 with 2 Axes>"
      ]
     },
     "metadata": {
      "needs_background": "light"
     },
     "output_type": "display_data"
    }
   ],
   "source": [
    "# 4.混淆矩阵\n",
    "from sklearn.metrics import confusion_matrix\n",
    "cm = confusion_matrix(y_test, model.predict_classes(X_test_std))\n",
    "plt.matshow(cm,cmap=plt.cm.Blues)\n",
    "plt.colorbar()\n",
    "for x in range(len(cm)):\n",
    "    for y in range(len(cm)):\n",
    "        plt.annotate(cm[x,y],xy=(x,y),horizontalalignment='center',verticalalignment='center')\n",
    "\n",
    "plt.ylabel('Predicted label')# 坐标轴标签\n",
    "plt.xlabel('True label')# 坐标轴标签\n",
    "plt.show()"
   ]
  },
  {
   "cell_type": "markdown",
   "metadata": {},
   "source": [
    "# 确定是否需要保存？"
   ]
  },
  {
   "cell_type": "markdown",
   "metadata": {},
   "source": [
    "# 切勿覆盖原有模型，请再次执行确认！"
   ]
  },
  {
   "cell_type": "code",
   "execution_count": null,
   "metadata": {},
   "outputs": [],
   "source": [
    "# model.save('./d2v_lstm_models/append_64_neuron_bilstm.h5')\n",
    "# model.save('./d2v_lstm_models/replace_100_neuron_bilstm.h5')\n",
    "# model.save('./d2v_lstm_models/replace_128_neuron_bilstm_high_recall.h5')"
   ]
  },
  {
   "cell_type": "code",
   "execution_count": null,
   "metadata": {},
   "outputs": [],
   "source": []
  }
 ],
 "metadata": {
  "kernelspec": {
   "display_name": "Python 3",
   "language": "python",
   "name": "python3"
  },
  "language_info": {
   "codemirror_mode": {
    "name": "ipython",
    "version": 3
   },
   "file_extension": ".py",
   "mimetype": "text/x-python",
   "name": "python",
   "nbconvert_exporter": "python",
   "pygments_lexer": "ipython3",
   "version": "3.7.7"
  }
 },
 "nbformat": 4,
 "nbformat_minor": 4
}
